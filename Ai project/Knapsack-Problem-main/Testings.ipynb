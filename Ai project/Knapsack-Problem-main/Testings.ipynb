{
 "cells": [
  {
   "cell_type": "code",
   "execution_count": 264,
   "metadata": {},
   "outputs": [],
   "source": [
    "import random\n",
    "random.seed()"
   ]
  },
  {
   "cell_type": "code",
   "execution_count": 265,
   "metadata": {},
   "outputs": [],
   "source": [
    "pop_size = 10\n",
    "unbounded = False\n",
    "items =[(25,10),(15,15),(20,18),(30,20),(10,5)]\n",
    "max_weight = 50\n",
    "population =[]\n"
   ]
  },
  {
   "cell_type": "markdown",
   "metadata": {},
   "source": [
    "### Generate population"
   ]
  },
  {
   "cell_type": "code",
   "execution_count": 266,
   "metadata": {},
   "outputs": [],
   "source": [
    "def generate_population():    \n",
    "        count = 0\n",
    "        \n",
    "        while count < pop_size:    \n",
    "            genes = [0, 1] if not unbounded else [0, 1, 2] \n",
    "            chromosome = [random.choice(genes) for _ in range(len(items))]\n",
    "            total_weight = sum(item[0] * chromosome[i] for i, item in enumerate(items))\n",
    "            if total_weight <= max_weight:\n",
    "                population.append(chromosome)\n",
    "                count +=1\n",
    "        return population"
   ]
  },
  {
   "cell_type": "code",
   "execution_count": 267,
   "metadata": {},
   "outputs": [
    {
     "data": {
      "text/plain": [
       "[[1, 0, 0, 0, 0],\n",
       " [0, 1, 0, 0, 1],\n",
       " [1, 0, 0, 0, 0],\n",
       " [0, 0, 0, 0, 1],\n",
       " [0, 1, 0, 0, 0],\n",
       " [1, 1, 0, 0, 1],\n",
       " [0, 0, 0, 0, 0],\n",
       " [0, 1, 0, 1, 0],\n",
       " [0, 0, 0, 1, 1],\n",
       " [1, 0, 1, 0, 0]]"
      ]
     },
     "execution_count": 267,
     "metadata": {},
     "output_type": "execute_result"
    }
   ],
   "source": [
    "generate_population()"
   ]
  },
  {
   "cell_type": "markdown",
   "metadata": {},
   "source": [
    "### Evaluate Fitness"
   ]
  },
  {
   "cell_type": "code",
   "execution_count": 268,
   "metadata": {},
   "outputs": [],
   "source": [
    "def calculate_fitness(chromosome):\n",
    "        total_weight = sum(item[0] * chromosome[i] for i, item in enumerate(items))\n",
    "        total_value = sum(item[1] * chromosome[i] for i, item in enumerate(items))\n",
    "        return total_value if total_weight <= max_weight or not unbounded else 0"
   ]
  },
  {
   "cell_type": "code",
   "execution_count": 269,
   "metadata": {},
   "outputs": [
    {
     "data": {
      "text/plain": [
       "10"
      ]
     },
     "execution_count": 269,
     "metadata": {},
     "output_type": "execute_result"
    }
   ],
   "source": [
    "calculate_fitness(population[0])"
   ]
  },
  {
   "cell_type": "markdown",
   "metadata": {},
   "source": [
    "### Select Chromosome"
   ]
  },
  {
   "cell_type": "code",
   "execution_count": 270,
   "metadata": {},
   "outputs": [],
   "source": [
    "def select_chromosomes():\n",
    "        \n",
    "        fitness_values = [calculate_fitness(chromosome) for chromosome in population]\n",
    "        fitness_values = [float(i) / sum(fitness_values) for i in fitness_values]\n",
    "\n",
    "        #choose 20% of the population as parents\n",
    "        sorted_population = [x for _, x in sorted(zip(fitness_values, population), reverse=True)]\n",
    "        parents = sorted_population[:int(0.2 * len(population))]\n",
    "        second_half = sorted_population[int(0.2 * len(population)):]\n",
    "\n",
    "        return parents,second_half"
   ]
  },
  {
   "cell_type": "code",
   "execution_count": 271,
   "metadata": {},
   "outputs": [
    {
     "data": {
      "text/plain": [
       "([[0, 1, 0, 1, 0], [1, 1, 0, 0, 1]],\n",
       " [[1, 0, 1, 0, 0],\n",
       "  [0, 0, 0, 1, 1],\n",
       "  [0, 1, 0, 0, 1],\n",
       "  [0, 1, 0, 0, 0],\n",
       "  [1, 0, 0, 0, 0],\n",
       "  [1, 0, 0, 0, 0],\n",
       "  [0, 0, 0, 0, 1],\n",
       "  [0, 0, 0, 0, 0]])"
      ]
     },
     "execution_count": 271,
     "metadata": {},
     "output_type": "execute_result"
    }
   ],
   "source": [
    "select_chromosomes()"
   ]
  },
  {
   "cell_type": "code",
   "execution_count": 272,
   "metadata": {},
   "outputs": [],
   "source": [
    "parents, second_half = select_chromosomes()"
   ]
  },
  {
   "cell_type": "markdown",
   "metadata": {},
   "source": [
    "#### Weight correction"
   ]
  },
  {
   "cell_type": "code",
   "execution_count": 273,
   "metadata": {},
   "outputs": [],
   "source": [
    "def correct_weight(chromosome):\n",
    "        total_weight = sum(item[0] * chromosome[i] for i, item in enumerate(items))\n",
    "        while total_weight > max_weight:\n",
    "            # Randomly select an item and set its corresponding gene to 0\n",
    "            index_to_reset = random.randint(0, len(chromosome) - 1)\n",
    "            chromosome[index_to_reset] = 0\n",
    "            total_weight = sum(item[0] * chromosome[i] for i, item in enumerate(items))\n",
    "        return chromosome"
   ]
  },
  {
   "cell_type": "markdown",
   "metadata": {},
   "source": [
    "### Crossover"
   ]
  },
  {
   "cell_type": "code",
   "execution_count": 274,
   "metadata": {},
   "outputs": [],
   "source": [
    "def crossover(parents):\n",
    "        crossover_point = random.randint(0, len(items) - 1)\n",
    "\n",
    "        # Ensure there are at least two parents\n",
    "        if len(parents) < 2:\n",
    "            raise ValueError(\"At least two parents are required for crossover.\")\n",
    "\n",
    "        # Perform crossover between all pairs of parents\n",
    "        children = []\n",
    "        for i in range(0, len(parents), 2):\n",
    "            parent1, parent2 = parents[i], parents[i + 1] if i + 1 < len(parents) else parents[i]\n",
    "            child1 = parent1[:crossover_point] + parent2[crossover_point:]\n",
    "            child2 = parent2[:crossover_point] + parent1[crossover_point:]\n",
    "\n",
    "            child1 = correct_weight(child1)\n",
    "            child2 = correct_weight(child2)\n",
    "            children.extend([child1, child2])\n",
    "        return children"
   ]
  },
  {
   "cell_type": "code",
   "execution_count": 275,
   "metadata": {},
   "outputs": [
    {
     "name": "stdout",
     "output_type": "stream",
     "text": [
      "[[0, 1, 0, 1, 0], [1, 1, 0, 0, 1]]\n"
     ]
    }
   ],
   "source": [
    "print(parents)\n",
    "children = crossover(parents)"
   ]
  },
  {
   "cell_type": "markdown",
   "metadata": {},
   "source": [
    "### Mutate for unbounded"
   ]
  },
  {
   "cell_type": "code",
   "execution_count": 276,
   "metadata": {},
   "outputs": [],
   "source": [
    "def mutate(chromosome):\n",
    "        mutate_point = random.randint(0, len(items) - 1)\n",
    "        chromosome[mutate_point] = random.choice([i for i in range(10)])\n",
    "        chromosome = correct_weight(chromosome)\n",
    "        return chromosome"
   ]
  },
  {
   "cell_type": "code",
   "execution_count": 277,
   "metadata": {},
   "outputs": [
    {
     "data": {
      "text/plain": [
       "[0, 0, 0, 0, 1]"
      ]
     },
     "execution_count": 277,
     "metadata": {},
     "output_type": "execute_result"
    }
   ],
   "source": [
    "mutate(children[0])"
   ]
  },
  {
   "cell_type": "markdown",
   "metadata": {},
   "source": [
    "### Mutation for 0-1"
   ]
  },
  {
   "cell_type": "code",
   "execution_count": 278,
   "metadata": {},
   "outputs": [],
   "source": [
    "def mutation(chromo, p):\n",
    "    # mutated chromo intial values are zeros\n",
    "        mutated_chromosome = [0 for _ in range(len(items))]\n",
    "        for i in range(len(items)):\n",
    "            d = chromo[i]\n",
    "            r = random.uniform(0, 1)\n",
    "            if chromo[i] == 1.0 and r < p:\n",
    "                mutated_chromosome[i] = 0\n",
    "            elif chromo[i] == 0.0 and r < p:\n",
    "                mutated_chromosome[i] = 1\n",
    "            else:\n",
    "                mutated_chromosome[i] = d\n",
    "        chromo = mutated_chromosome\n",
    "        return chromo"
   ]
  },
  {
   "cell_type": "code",
   "execution_count": 279,
   "metadata": {},
   "outputs": [
    {
     "data": {
      "text/plain": [
       "[0, 1, 1, 1, 1]"
      ]
     },
     "execution_count": 279,
     "metadata": {},
     "output_type": "execute_result"
    }
   ],
   "source": [
    "mutation(children[1], 1)"
   ]
  },
  {
   "cell_type": "markdown",
   "metadata": {},
   "source": [
    "### Evolve_population"
   ]
  },
  {
   "cell_type": "code",
   "execution_count": null,
   "metadata": {},
   "outputs": [],
   "source": [
    "def evolve_population():\n",
    "            for _ in range(generations):\n",
    "                parents, second_half = select_chromosomes()\n",
    "                children = crossover(parents)\n",
    "\n",
    "                # Replace the worst-performing individuals with the children\n",
    "                population = second_half + children\n",
    "\n",
    "                # Mutate some individuals based on the mutation probability\n",
    "                \n",
    "                for i in range(len(population)):\n",
    "                    if unbounded:\n",
    "                        if random.random() < mutation_probability:\n",
    "                            population[i] = mutate(population[i]) # Mutates unbounded\n",
    "                    else:\n",
    "                        population[i] = mutation(population[i], mutation_probability) # Mutates 0-1"
   ]
  }
 ],
 "metadata": {
  "kernelspec": {
   "display_name": "Python 3",
   "language": "python",
   "name": "python3"
  },
  "language_info": {
   "codemirror_mode": {
    "name": "ipython",
    "version": 3
   },
   "file_extension": ".py",
   "mimetype": "text/x-python",
   "name": "python",
   "nbconvert_exporter": "python",
   "pygments_lexer": "ipython3",
   "version": "3.12.0"
  }
 },
 "nbformat": 4,
 "nbformat_minor": 2
}
